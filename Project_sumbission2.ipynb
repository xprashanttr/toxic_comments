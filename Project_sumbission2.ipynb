{
  "nbformat": 4,
  "nbformat_minor": 0,
  "metadata": {
    "colab": {
      "name": "Benchmark_Test_PostReview1.ipynb",
      "version": "0.3.2",
      "provenance": [],
      "collapsed_sections": [
        "PfKL109EfADw",
        "j72JVJANXz_3",
        "2xy7FiN9ZRgD",
        "ql4-0f7vc1SG",
        "qWVOGDLw2kJk",
        "5L_One-tbk-Y",
        "EIoa5dbccNJp",
        "qspHioMNx63G",
        "XFhgorOScpQU",
        "XYl9M-sJfa28"
      ]
    },
    "kernelspec": {
      "name": "python3",
      "display_name": "Python 3"
    },
    "accelerator": "GPU"
  },
  "cells": [
    {
      "metadata": {
        "id": "PfKL109EfADw",
        "colab_type": "text"
      },
      "cell_type": "markdown",
      "source": [
        "##**Data download**\n",
        "\n",
        "Data setup section has steps to copy data from Google Drive to Google-Colab.\n",
        "First submission had steps to download data from Kaggle directly. However, I faced Kaggle API authentication issues this time. It was strange but couldnt help.\n",
        "\n",
        "---\n",
        "\n",
        "Original data is Available at kaggle website : https://www.kaggle.com/c/jigsaw-toxic-comment-classification-challenge/data\n",
        "\n",
        "\n",
        "Both test.csv.zip and train.csv.zip should be kep at home directory of google drive before executing this code.\n",
        "\n",
        "---\n",
        "\n",
        "If this has to be avoided, then manual upload of files are required on Google-colab using below code :\n",
        "\n",
        "\n",
        "*from google.colab import files*\n",
        "\n",
        "*files.upload()*\n",
        "\n"
      ]
    },
    {
      "metadata": {
        "id": "Qf8zKeR4enj2",
        "colab_type": "code",
        "colab": {}
      },
      "cell_type": "code",
      "source": [
        "'''\n",
        "This will ask for authentication and access to google drive.\n",
        "train.csv.zip & test.csv.zip &  should be placed in home folder of Google drive\n",
        "'''\n",
        "from googleapiclient.discovery import build\n",
        "import io, os\n",
        "from googleapiclient.http import MediaIoBaseDownload\n",
        "from google.colab import auth\n",
        "auth.authenticate_user()\n",
        "drive_service = build('drive', 'v3')\n"
      ],
      "execution_count": 0,
      "outputs": []
    },
    {
      "metadata": {
        "id": "X_yjUsZqb-o-",
        "colab_type": "code",
        "colab": {
          "base_uri": "https://localhost:8080/",
          "height": 306
        },
        "outputId": "ed2eeb88-3a4a-4b2e-dabe-f71f35f0d65b"
      },
      "cell_type": "code",
      "source": [
        "#File Download\n",
        "\n",
        "!rm -f *.zip *.csv\n",
        "\n",
        "#!kaggle competitions download -c jigsaw-toxic-comment-classification-challenge\n",
        "#train.csv download\n",
        "results = drive_service.files().list(q=\"name = 'train.csv.zip'\", fields=\"files(id)\").execute()\n",
        "kaggle_api_key = results.get('files', [])\n",
        "filename = \"/content/train.csv.zip\"\n",
        "os.makedirs(os.path.dirname(filename), exist_ok=True)\n",
        "request = drive_service.files().get_media(fileId=kaggle_api_key[0]['id'])\n",
        "fh = io.FileIO(filename, 'wb')\n",
        "downloader = MediaIoBaseDownload(fh, request)\n",
        "done = False\n",
        "while done is False:\n",
        "    status, done = downloader.next_chunk()\n",
        "    print(\"train.csv.zip - Download %d%%.\" % int(status.progress() * 100))\n",
        "os.chmod(filename, 600)\n",
        "\n",
        "#test.csv download\n",
        "results = drive_service.files().list(q=\"name = 'test.csv.zip'\", fields=\"files(id)\").execute()\n",
        "kaggle_api_key = results.get('files', [])\n",
        "filename = \"/content/test.csv.zip\"\n",
        "os.makedirs(os.path.dirname(filename), exist_ok=True)\n",
        "request = drive_service.files().get_media(fileId=kaggle_api_key[0]['id'])\n",
        "fh = io.FileIO(filename, 'wb')\n",
        "downloader = MediaIoBaseDownload(fh, request)\n",
        "done = False\n",
        "while done is False:\n",
        "    status, done = downloader.next_chunk()\n",
        "    print(\"test.csv.zip - Download %d%%.\" % int(status.progress() * 100))\n",
        "os.chmod(filename, 600)\n",
        "\n",
        "\n",
        "!unzip train.csv.zip\n",
        "\n",
        "!unzip test.csv.zip\n",
        "\n",
        "!ls -ltr\n",
        "\n",
        "!wc -l *.csv"
      ],
      "execution_count": 0,
      "outputs": [
        {
          "output_type": "stream",
          "text": [
            "train.csv.zip - Download 100%.\n",
            "test.csv.zip - Download 100%.\n",
            "Archive:  train.csv.zip\n",
            "  inflating: train.csv               \n",
            "Archive:  test.csv.zip\n",
            "  inflating: test.csv                \n",
            "total 177872\n",
            "-rw-r--r-- 1 root root 60354593 Jun 19 22:48 test.csv\n",
            "-rw-r--r-- 1 root root 68802655 Jun 19 22:48 train.csv\n",
            "drwxr-xr-x 2 root root     4096 Aug 15 20:56 sample_data\n",
            "lrwxrwxrwx 1 root root        8 Aug 15 20:56 datalab -> /content\n",
            "-rw-r--r-- 1 root root     2502 Aug 22 06:31 adc.json\n",
            "---x-wx--T 1 root root 28044826 Aug 22 06:31 train.csv.zip\n",
            "---x-wx--T 1 root root 24923937 Aug 22 06:31 test.csv.zip\n",
            "   552889 test.csv\n",
            "   561809 train.csv\n",
            "  1114698 total\n"
          ],
          "name": "stdout"
        }
      ]
    },
    {
      "metadata": {
        "id": "WtARjcHDfH9d",
        "colab_type": "text"
      },
      "cell_type": "markdown",
      "source": [
        "##**imports**"
      ]
    },
    {
      "metadata": {
        "id": "MyPNSG72ajlF",
        "colab_type": "code",
        "colab": {}
      },
      "cell_type": "code",
      "source": [
        "import matplotlib.pyplot as plt\n",
        "import pandas as pd\n",
        "import numpy as np\n",
        "import scipy.sparse as sp\n",
        "from sklearn.feature_extraction.text import TfidfVectorizer\n",
        "from sklearn.model_selection import StratifiedShuffleSplit\n",
        "from sklearn.ensemble import RandomForestClassifier\n",
        "from sklearn.neural_network import MLPClassifier\n",
        "import sklearn.metrics as metrics\n",
        "from sklearn.multioutput import MultiOutputClassifier\n",
        "import time\n",
        "from sklearn.pipeline import Pipeline\n",
        "from sklearn.multiclass import OneVsRestClassifier\n",
        "from sklearn.linear_model import LogisticRegression\n",
        "import seaborn as sns"
      ],
      "execution_count": 0,
      "outputs": []
    },
    {
      "metadata": {
        "id": "j72JVJANXz_3",
        "colab_type": "text"
      },
      "cell_type": "markdown",
      "source": [
        "##**Utilities**"
      ]
    },
    {
      "metadata": {
        "id": "zSHCfHwXbkam",
        "colab_type": "code",
        "colab": {}
      },
      "cell_type": "code",
      "source": [
        "def read_data(filename):\n",
        "    return pd.read_csv(filename) \n",
        "\n",
        "def get_tfidf_vectorizer(sentences):\n",
        "    x = TfidfVectorizer(max_df=0.5, max_features = 5000, min_df=2, stop_words='english',use_idf=True)\n",
        "    x.fit(sentences)\n",
        "    return x\n",
        "\n",
        "def get_nrange_tfidf_vectorizer(sentences):\n",
        "    x = TfidfVectorizer(max_df=0.5, ngram_range=(2,3), max_features = 5000,min_df=1, stop_words='english',use_idf=True)\n",
        "    x.fit(sentences)\n",
        "    return x\n",
        "\n",
        "def get_vectors(model1, model2, sentences):\n",
        "    x1 = model1.transform(sentences)\n",
        "    x2 = model2.transform(sentences)\n",
        "    return sp.hstack([x1, x2])\n",
        "\n",
        "class ExtendedMultiOutputClassifier(MultiOutputClassifier):\n",
        "    def transform(self, x):\n",
        "        \"\"\" Add a transform method to the RF classifier to provide fit and transform methods \"\"\"\n",
        "        return np.concatenate(self.predict_proba(x), axis=1)\n",
        "\n"
      ],
      "execution_count": 0,
      "outputs": []
    },
    {
      "metadata": {
        "id": "2xy7FiN9ZRgD",
        "colab_type": "text"
      },
      "cell_type": "markdown",
      "source": [
        "##**Train data read**"
      ]
    },
    {
      "metadata": {
        "id": "yRF4a_PEcYfK",
        "colab_type": "code",
        "colab": {
          "base_uri": "https://localhost:8080/",
          "height": 34
        },
        "outputId": "af64212b-d636-47e1-a279-502d47956f93"
      },
      "cell_type": "code",
      "source": [
        "\n",
        "'''\n",
        "Read data\n",
        "'''\n",
        "\n",
        "train_data = 'train.csv'\n",
        "\n",
        "# utility definitions for easier handling of the dataset column names\n",
        "TEXT_COLUMN = 'comment_text'\n",
        "CLASS_TOXIC, CLASS_SEVER_TOXIC, CLASS_OBSCENE, CLASS_THREAT, CLASS_INSULT, CLASS_IDENTITY_HATE = [\"toxic\", \"severe_toxic\", \"obscene\", \"threat\",\"insult\", \"identity_hate\"]\n",
        "CLASSES = [CLASS_TOXIC, CLASS_SEVER_TOXIC, CLASS_OBSCENE, CLASS_THREAT, CLASS_INSULT, CLASS_IDENTITY_HATE]\n",
        "\n",
        "# read the comments and associated classification data \n",
        "train_data_full_df = read_data(train_data)\n",
        "print(train_data_full_df.shape)\n"
      ],
      "execution_count": 5,
      "outputs": [
        {
          "output_type": "stream",
          "text": [
            "(159571, 8)\n"
          ],
          "name": "stdout"
        }
      ]
    },
    {
      "metadata": {
        "id": "ql4-0f7vc1SG",
        "colab_type": "text"
      },
      "cell_type": "markdown",
      "source": [
        "##**Some basic data charecteristics of training data provided**"
      ]
    },
    {
      "metadata": {
        "id": "TuSzzK74czMO",
        "colab_type": "code",
        "colab": {
          "base_uri": "https://localhost:8080/",
          "height": 376
        },
        "outputId": "39b2a664-bd27-44ae-b5de-e4c93aef1700"
      },
      "cell_type": "code",
      "source": [
        "'''\n",
        "Histogram of number of classes per datapoint\n",
        "'''\n",
        "labels, counts = np.unique(train_data_full_df[CLASSES].sum(axis=1), return_counts=True)\n",
        "plt.bar(labels, counts, align='center')\n",
        "plt.gca().set_title('Histogram of number of classes per comment')\n",
        "plt.gca().set_xlabel('Number of classes per comment')\n",
        "plt.gca().set_xticks(labels)\n",
        "plt.show()\n",
        "\n"
      ],
      "execution_count": 0,
      "outputs": [
        {
          "output_type": "display_data",
          "data": {
            "image/png": "[encoded data removed]",
            "text/plain": [
              "<matplotlib.figure.Figure at 0x7f9c84b5eba8>"
            ]
          },
          "metadata": {
            "tags": []
          }
        }
      ]
    },
    {
      "metadata": {
        "id": "yrY43RiVvFG2",
        "colab_type": "code",
        "colab": {
          "base_uri": "https://localhost:8080/",
          "height": 235
        },
        "outputId": "62fc0705-ddab-495f-c45c-5c1770ab79ac"
      },
      "cell_type": "code",
      "source": [
        "'''\n",
        "Number of records per class type\n",
        "'''\n",
        "df_toxic = train_data_full_df.drop(['id', 'comment_text'], axis=1)\n",
        "counts = []\n",
        "categories = list(df_toxic.columns.values)\n",
        "for i in categories: counts.append((i, df_toxic[i].sum()))\n",
        "df_stats = pd.DataFrame(counts, columns=['category', 'number_of_comments'])\n",
        "df_stats\n",
        "\n"
      ],
      "execution_count": 33,
      "outputs": [
        {
          "output_type": "execute_result",
          "data": {
            "text/html": [
              "<div>\n",
              "<style scoped>\n",
              "    .dataframe tbody tr th:only-of-type {\n",
              "        vertical-align: middle;\n",
              "    }\n",
              "\n",
              "    .dataframe tbody tr th {\n",
              "        vertical-align: top;\n",
              "    }\n",
              "\n",
              "    .dataframe thead th {\n",
              "        text-align: right;\n",
              "    }\n",
              "</style>\n",
              "<table border=\"1\" class=\"dataframe\">\n",
              "  <thead>\n",
              "    <tr style=\"text-align: right;\">\n",
              "      <th></th>\n",
              "      <th>category</th>\n",
              "      <th>number_of_comments</th>\n",
              "    </tr>\n",
              "  </thead>\n",
              "  <tbody>\n",
              "    <tr>\n",
              "      <th>0</th>\n",
              "      <td>toxic</td>\n",
              "      <td>15294</td>\n",
              "    </tr>\n",
              "    <tr>\n",
              "      <th>1</th>\n",
              "      <td>severe_toxic</td>\n",
              "      <td>1595</td>\n",
              "    </tr>\n",
              "    <tr>\n",
              "      <th>2</th>\n",
              "      <td>obscene</td>\n",
              "      <td>8449</td>\n",
              "    </tr>\n",
              "    <tr>\n",
              "      <th>3</th>\n",
              "      <td>threat</td>\n",
              "      <td>478</td>\n",
              "    </tr>\n",
              "    <tr>\n",
              "      <th>4</th>\n",
              "      <td>insult</td>\n",
              "      <td>7877</td>\n",
              "    </tr>\n",
              "    <tr>\n",
              "      <th>5</th>\n",
              "      <td>identity_hate</td>\n",
              "      <td>1405</td>\n",
              "    </tr>\n",
              "  </tbody>\n",
              "</table>\n",
              "</div>"
            ],
            "text/plain": [
              "        category  number_of_comments\n",
              "0          toxic               15294\n",
              "1   severe_toxic                1595\n",
              "2        obscene                8449\n",
              "3         threat                 478\n",
              "4         insult                7877\n",
              "5  identity_hate                1405"
            ]
          },
          "metadata": {
            "tags": []
          },
          "execution_count": 33
        }
      ]
    },
    {
      "metadata": {
        "id": "K_0EvLQmv2Fz",
        "colab_type": "code",
        "colab": {
          "base_uri": "https://localhost:8080/",
          "height": 415
        },
        "outputId": "ed3c5c58-01ba-42ce-a121-49d50dc896bc"
      },
      "cell_type": "code",
      "source": [
        "df_stats.plot(x='category', y='number_of_comments', kind='bar', legend=False, grid=True, figsize=(8, 5))\n",
        "plt.title('Number of comments per category')\n",
        "plt.ylabel('Number of Occurrences', fontsize=12)\n",
        "plt.xlabel('category', fontsize=12)\n"
      ],
      "execution_count": 34,
      "outputs": [
        {
          "output_type": "execute_result",
          "data": {
            "text/plain": [
              "Text(0.5,0,'category')"
            ]
          },
          "metadata": {
            "tags": []
          },
          "execution_count": 34
        },
        {
          "output_type": "display_data",
          "data": {
            "image/png": "[encoded data removed]",
            "text/plain": [
              "<matplotlib.figure.Figure at 0x7f8a49b684a8>"
            ]
          },
          "metadata": {
            "tags": []
          }
        }
      ]
    },
    {
      "metadata": {
        "id": "FDwxSxQYxIHG",
        "colab_type": "code",
        "colab": {
          "base_uri": "https://localhost:8080/",
          "height": 51
        },
        "outputId": "87cbb0c4-2e11-4a5f-d9c2-c47fb979a663"
      },
      "cell_type": "code",
      "source": [
        "print('Percentage of comments that are not labelled:')\n",
        "print(len(train_data_full_df[(train_data_full_df['toxic']==0) & (train_data_full_df['severe_toxic']==0) & (train_data_full_df['obscene']==0) & (train_data_full_df['threat']== 0) & (train_data_full_df['insult']==0) & (train_data_full_df['identity_hate']==0)]) / len(train_data_full_df))\n"
      ],
      "execution_count": 0,
      "outputs": [
        {
          "output_type": "stream",
          "text": [
            "Percentage of comments that are not labelled:\n",
            "0.8983211235124177\n"
          ],
          "name": "stdout"
        }
      ]
    },
    {
      "metadata": {
        "id": "t0a7eknVxcng",
        "colab_type": "code",
        "colab": {
          "base_uri": "https://localhost:8080/",
          "height": 364
        },
        "outputId": "8fa99e86-fabf-45dc-ebad-cf6b8a598591"
      },
      "cell_type": "code",
      "source": [
        "'''\n",
        "#words in comment texts\n",
        "'''\n",
        "\n",
        "comment_length = train_data_full_df.comment_text.str.len()\n",
        "comment_length.hist(bins = np.arange(0,5000,50))\n",
        "\n",
        "'''\n",
        "Most of the comment text length are within 500 characters\n",
        "Some outliers up to 4,000+ characters long.\n",
        "'''\n"
      ],
      "execution_count": 44,
      "outputs": [
        {
          "output_type": "execute_result",
          "data": {
            "text/plain": [
              "'\\nMost of the comment text length are within 500 characters\\nSome outliers up to 4,000+ characters long.\\n'"
            ]
          },
          "metadata": {
            "tags": []
          },
          "execution_count": 44
        },
        {
          "output_type": "display_data",
          "data": {
            "image/png": "[encoded data removed]",
            "text/plain": [
              "<matplotlib.figure.Figure at 0x7f8a50ac5978>"
            ]
          },
          "metadata": {
            "tags": []
          }
        }
      ]
    },
    {
      "metadata": {
        "id": "hE86Xw8aQumX",
        "colab_type": "code",
        "colab": {}
      },
      "cell_type": "code",
      "source": [
        "comment_length"
      ],
      "execution_count": 0,
      "outputs": []
    },
    {
      "metadata": {
        "id": "1fcZUcOvPpj4",
        "colab_type": "code",
        "colab": {
          "base_uri": "https://localhost:8080/",
          "height": 34
        },
        "outputId": "d050c572-acb1-4e0a-de99-3b642a3db60a"
      },
      "cell_type": "code",
      "source": [
        "comment_length.mean()"
      ],
      "execution_count": 46,
      "outputs": [
        {
          "output_type": "execute_result",
          "data": {
            "text/plain": [
              "394.0732213246768"
            ]
          },
          "metadata": {
            "tags": []
          },
          "execution_count": 46
        }
      ]
    },
    {
      "metadata": {
        "id": "WNxPHHgDx04M",
        "colab_type": "code",
        "colab": {
          "base_uri": "https://localhost:8080/",
          "height": 51
        },
        "outputId": "05ddf305-02a0-4a7a-f302-c8024b593166"
      },
      "cell_type": "code",
      "source": [
        "'''\n",
        "missing comment in comment text column.\n",
        "'''\n",
        "\n",
        "print('Number of missing comments in training data:')\n",
        "train_data_full_df['comment_text'].isnull().sum()\n"
      ],
      "execution_count": 47,
      "outputs": [
        {
          "output_type": "stream",
          "text": [
            "Number of missing comments in training data:\n"
          ],
          "name": "stdout"
        },
        {
          "output_type": "execute_result",
          "data": {
            "text/plain": [
              "0"
            ]
          },
          "metadata": {
            "tags": []
          },
          "execution_count": 47
        }
      ]
    },
    {
      "metadata": {
        "id": "qWVOGDLw2kJk",
        "colab_type": "text"
      },
      "cell_type": "markdown",
      "source": [
        "##**Data Preparation**"
      ]
    },
    {
      "metadata": {
        "id": "9hubTcNLc6UQ",
        "colab_type": "code",
        "colab": {
          "base_uri": "https://localhost:8080/",
          "height": 85
        },
        "outputId": "90e70908-1c7b-4ed9-8650-ac80936ad789"
      },
      "cell_type": "code",
      "source": [
        "## shuffle and split the dataset stratified by the number of classifications of a data point\n",
        "## for balancing across resulting modeling and evaluation datasets\n",
        "\n",
        "#Parameters for StratifiedShuffleSplit\n",
        "v_n_splits=10\n",
        "v_train_size=0.8\n",
        "v_test_size=0.2\n",
        "\n",
        "\n",
        "print('\\n Training and evaluation data building starts')\n",
        "train_start_time = time.time()\n",
        "sss = StratifiedShuffleSplit(n_splits=v_n_splits, train_size=v_train_size, test_size=v_test_size, random_state=0)\n",
        "for train_index, test_index in sss.split(np.zeros(len(train_data_full_df)), train_data_full_df[CLASSES].sum(axis=1)): pass\n",
        "\n",
        "\n",
        "train_data_modeling_df = train_data_full_df.iloc[train_index]\n",
        "train_data_eval_df = train_data_full_df.iloc[test_index]\n",
        "\n",
        "\n",
        "print('\\n Training and evaluation data building ends - Time(Seconds) - %s'% int(time.time() - train_start_time))\n"
      ],
      "execution_count": 6,
      "outputs": [
        {
          "output_type": "stream",
          "text": [
            "\n",
            " Training and evaluation data building starts\n",
            "\n",
            " Training and evaluation data building ends - Time(Seconds) - 0\n"
          ],
          "name": "stdout"
        }
      ]
    },
    {
      "metadata": {
        "id": "5L_One-tbk-Y",
        "colab_type": "text"
      },
      "cell_type": "markdown",
      "source": [
        "##**Some basic data charecteristics of training and evaluation data prepared**"
      ]
    },
    {
      "metadata": {
        "id": "Nst4eDokbszO",
        "colab_type": "code",
        "colab": {
          "base_uri": "https://localhost:8080/",
          "height": 289
        },
        "outputId": "e4e795f4-c573-485a-8bd9-dd1f0b117e12"
      },
      "cell_type": "code",
      "source": [
        "print('---------------- Training Data ----------------')\n",
        "print('Number of records in Training data set: %d' %len(train_data_modeling_df))\n",
        "for x in CLASSES: print('Number of records of type %s: %d' %(x, len(train_data_modeling_df[train_data_modeling_df[x]==1])))\n",
        "#print('--------------------------------------------------------------')\n",
        "print('---------------- Evaluation Data ----------------')\n",
        "print('Number of records in Evaluation data set: %d' %len(train_data_eval_df))\n",
        "for x in CLASSES: print('Number of records of type %s: %d' %(x, len(train_data_eval_df[train_data_eval_df[x]==1])))\n"
      ],
      "execution_count": 0,
      "outputs": [
        {
          "output_type": "stream",
          "text": [
            "---------------- Training Data ----------------\n",
            "Number of records in Training data set: 127656\n",
            "Number of records of type toxic: 12248\n",
            "Number of records of type severe_toxic: 1265\n",
            "Number of records of type obscene: 6748\n",
            "Number of records of type threat: 374\n",
            "Number of records of type insult: 6307\n",
            "Number of records of type identity_hate: 1137\n",
            "---------------- Evaluation Data ----------------\n",
            "Number of records in Evaluation data set: 31915\n",
            "Number of records of type toxic: 3046\n",
            "Number of records of type severe_toxic: 330\n",
            "Number of records of type obscene: 1701\n",
            "Number of records of type threat: 104\n",
            "Number of records of type insult: 1570\n",
            "Number of records of type identity_hate: 268\n"
          ],
          "name": "stdout"
        }
      ]
    },
    {
      "metadata": {
        "id": "sz671_jacDKO",
        "colab_type": "code",
        "colab": {
          "base_uri": "https://localhost:8080/",
          "height": 735
        },
        "outputId": "fb0ac7ae-2b10-473a-cbba-260e250f7a61"
      },
      "cell_type": "code",
      "source": [
        "'''\n",
        "Histogram of number of classes per datapoint for training and evaluation dataset\n",
        "'''\n",
        "labels, counts = np.unique(train_data_modeling_df[CLASSES].sum(axis=1), return_counts=True)\n",
        "plt.bar(labels, counts, align='center')\n",
        "plt.gca().set_title('Histogram of number of classes per datapoint - Training dataset')\n",
        "plt.gca().set_xlabel('Number of classes per datapoint')\n",
        "plt.gca().set_xticks(labels)\n",
        "plt.show()\n",
        "\n",
        "labels, counts = np.unique(train_data_eval_df[CLASSES].sum(axis=1), return_counts=True)\n",
        "plt.bar(labels, counts, align='center')\n",
        "plt.gca().set_title('Histogram of number of classes per datapoint - Evaluation dataset')\n",
        "plt.gca().set_xlabel('Number of classes per datapoint')\n",
        "plt.gca().set_xticks(labels)\n",
        "plt.show()\n"
      ],
      "execution_count": 0,
      "outputs": [
        {
          "output_type": "display_data",
          "data": {
            "image/png": "[encoded data removed]",
            "text/plain": [
              "<matplotlib.figure.Figure at 0x7f9c9a09f630>"
            ]
          },
          "metadata": {
            "tags": []
          }
        },
        {
          "output_type": "display_data",
          "data": {
            "image/png": "[encoded data removed]",
            "text/plain": [
              "<matplotlib.figure.Figure at 0x7f9c99ff6fd0>"
            ]
          },
          "metadata": {
            "tags": []
          }
        }
      ]
    },
    {
      "metadata": {
        "id": "OSklSIhWbhGr",
        "colab_type": "code",
        "colab": {
          "base_uri": "https://localhost:8080/",
          "height": 364
        },
        "outputId": "ff97826a-045d-48cd-bb46-cf51ff97eae5"
      },
      "cell_type": "code",
      "source": [
        "'''\n",
        "#words in comment texts\n",
        "'''\n",
        "\n",
        "comment_length_moodel = train_data_modeling_df.comment_text.str.len()\n",
        "comment_length_moodel.hist(bins = np.arange(0,5000,50))\n",
        "\n",
        "'''\n",
        "Most of the comment text length are within 500 characters\n",
        "Some outliers up to 4,000+ characters long.\n",
        "\n",
        "\n",
        "'''\n"
      ],
      "execution_count": 49,
      "outputs": [
        {
          "output_type": "execute_result",
          "data": {
            "text/plain": [
              "'\\nMost of the comment text length are within 500 characters\\nSome outliers up to 4,000+ characters long.\\n'"
            ]
          },
          "metadata": {
            "tags": []
          },
          "execution_count": 49
        },
        {
          "output_type": "display_data",
          "data": {
            "image/png": "[encoded data removed]",
            "text/plain": [
              "<matplotlib.figure.Figure at 0x7f8a46e0af60>"
            ]
          },
          "metadata": {
            "tags": []
          }
        }
      ]
    },
    {
      "metadata": {
        "id": "l9q7CMmTbwHK",
        "colab_type": "code",
        "colab": {
          "base_uri": "https://localhost:8080/",
          "height": 364
        },
        "outputId": "f3a208dd-a627-4052-bdb9-5ae48e295699"
      },
      "cell_type": "code",
      "source": [
        "'''\n",
        "#words in comment texts\n",
        "'''\n",
        "\n",
        "comment_length_moodel = train_data_eval_df.comment_text.str.len()\n",
        "comment_length_moodel.hist(bins = np.arange(0,5000,50))\n",
        "\n",
        "'''\n",
        "Most of the comment text length are within 500 characters\n",
        "Some outliers up to 4,000+ characters long.\n",
        "\n",
        "\n",
        "'''\n"
      ],
      "execution_count": 50,
      "outputs": [
        {
          "output_type": "execute_result",
          "data": {
            "text/plain": [
              "'\\nMost of the comment text length are within 500 characters\\nSome outliers up to 4,000+ characters long.\\n\\n\\n'"
            ]
          },
          "metadata": {
            "tags": []
          },
          "execution_count": 50
        },
        {
          "output_type": "display_data",
          "data": {
            "image/png": "[encoded data removed]",
            "text/plain": [
              "<matplotlib.figure.Figure at 0x7f8a3cadbb70>"
            ]
          },
          "metadata": {
            "tags": []
          }
        }
      ]
    },
    {
      "metadata": {
        "id": "EIoa5dbccNJp",
        "colab_type": "text"
      },
      "cell_type": "markdown",
      "source": [
        "##**Embedding**"
      ]
    },
    {
      "metadata": {
        "id": "VfiiIv8U9nv-",
        "colab_type": "code",
        "colab": {
          "base_uri": "https://localhost:8080/",
          "height": 153
        },
        "outputId": "4028fcc7-dc3b-4047-a9a4-e9492d1e22b2"
      },
      "cell_type": "code",
      "source": [
        "## doc2vec model from model training data\n",
        "print('\\n Building doc2vec model starts')\n",
        "doc2vec_model1 = get_tfidf_vectorizer(train_data_modeling_df[TEXT_COLUMN])\n",
        "doc2vec_model2 = get_nrange_tfidf_vectorizer(train_data_modeling_df[TEXT_COLUMN])\n",
        "print('\\n Building doc2vec model Ends')\n",
        "\n",
        "## prepare the data vectors\n",
        "print('\\n Bullding vectors starts')\n",
        "X = get_vectors(doc2vec_model1, doc2vec_model2, train_data_modeling_df[TEXT_COLUMN])\n",
        "print('\\n Bullding vectors ends')"
      ],
      "execution_count": 19,
      "outputs": [
        {
          "output_type": "stream",
          "text": [
            "\n",
            " Building doc2vec model starts\n",
            "\n",
            " Building doc2vec model Ends\n",
            "\n",
            " Bullding vectors starts\n",
            "\n",
            " Bullding vectors ends\n"
          ],
          "name": "stdout"
        }
      ]
    },
    {
      "metadata": {
        "id": "qspHioMNx63G",
        "colab_type": "text"
      },
      "cell_type": "markdown",
      "source": [
        "## Benchmark model"
      ]
    },
    {
      "metadata": {
        "id": "xJfnjEwAx1fC",
        "colab_type": "code",
        "colab": {
          "base_uri": "https://localhost:8080/",
          "height": 204
        },
        "outputId": "67a57128-3c31-42ce-8773-8cbea4fbc94f"
      },
      "cell_type": "code",
      "source": [
        "## LR\n",
        "print('\\n Building LR starts')\n",
        "\n",
        "lr_start_time = time.time()\n",
        "\n",
        "\n",
        "LogReg_pipeline = Pipeline([\n",
        "                ('tfidf', TfidfVectorizer(max_features = 5000, stop_words='english',use_idf=True)),\n",
        "                ('clf', OneVsRestClassifier(LogisticRegression(), n_jobs=-1)),\n",
        "            ])\n",
        "\n",
        "aucp=[]\n",
        "\n",
        "for category in CLASSES:\n",
        "    #print('Training {}'.format(category))\n",
        "    print('\\tTraining %s'%category)\n",
        "    # train\n",
        "    LogReg_pipeline.fit(train_data_modeling_df.comment_text, train_data_modeling_df[category])\n",
        "    # predict\n",
        "    prediction = LogReg_pipeline.predict(train_data_eval_df.comment_text)\n",
        "    # Evaluate\n",
        "    aucp.append(metrics.roc_auc_score(train_data_eval_df[category], prediction))\n",
        "    #break\n",
        "\n",
        "\n",
        "print('\\t\\tMean AUC Benchmark : %f' %np.mean(aucp))\n",
        "\n",
        "print('\\n Building LR ends - Time(Seconds) - %s'% int(time.time() - lr_start_time))\n"
      ],
      "execution_count": 48,
      "outputs": [
        {
          "output_type": "stream",
          "text": [
            "\n",
            " Building LR starts\n",
            "\tTraining toxic\n",
            "\tTraining severe_toxic\n",
            "\tTraining obscene\n",
            "\tTraining threat\n",
            "\tTraining insult\n",
            "\tTraining identity_hate\n",
            "\t\tMean AUC Benchmark : 0.700092\n",
            "\n",
            " Building LR ends - Time(Seconds) - 70\n"
          ],
          "name": "stdout"
        }
      ]
    },
    {
      "metadata": {
        "id": "XFhgorOScpQU",
        "colab_type": "text"
      },
      "cell_type": "markdown",
      "source": [
        "##**Project submission Model**"
      ]
    },
    {
      "metadata": {
        "id": "zbTTMmpFlZWd",
        "colab_type": "code",
        "colab": {
          "base_uri": "https://localhost:8080/",
          "height": 343
        },
        "outputId": "1afbfd69-2ba1-4fdb-e243-2696b9d3d8cf"
      },
      "cell_type": "code",
      "source": [
        "'''\n",
        "\n",
        "Eval for pipeline model\n",
        "\n",
        "'''\n",
        "\n",
        "print('\\t Creating pipeline model starts')\n",
        "\n",
        "pm_start_time = time.time()\n",
        "\n",
        "piperf = ExtendedMultiOutputClassifier(RandomForestClassifier(n_estimators = 100, n_jobs=-1))\n",
        "pipemlp = MLPClassifier(solver='sgd', activation='logistic', learning_rate='adaptive', hidden_layer_sizes=(100, 100), random_state=1, momentum=0.9, alpha=1e-6)\n",
        "\n",
        "pipm = Pipeline([('rf', piperf), ('nn', pipemlp)]) #--Pipeline \n",
        "pipm.fit(X, train_data_modeling_df[CLASSES])\n",
        "\n",
        "print('\\n Creating pipeline model starts ends - Time(Seconds) - %s'% int(time.time() - pm_start_time))\n",
        "\n",
        "print('\\t Predicting classes pipeline starts')\n",
        "pred_start_time = time.time()\n",
        "predicted_pipe = pipm.predict_proba(X_test)\n",
        "\n",
        "predicted_pipeDf = pd.DataFrame(predicted_pipe)\n",
        "predicted_pipeDf.columns = CLASSES\n",
        "\n",
        "print('\\n Predicting classes pipeline starts - Time(Seconds) - %s'% int(time.time() - pred_start_time))\n",
        "\n",
        "\n",
        "print('\\t Evaluating model ROC AUC pipeline\\n')\n",
        "\n",
        "# mean auc\n",
        "aucs_pipeline = list(map(lambda klass: metrics.roc_auc_score(train_data_eval_df[klass], predicted_pipeDf[klass]), CLASSES))\n",
        "\n",
        "print('\\t\\t-----------------------')\n",
        "print('\\t\\t splits: %f' %v_n_splits)\n",
        "print('\\t\\t train_size: %f' %v_train_size)\n",
        "print('\\t\\t test_size: %f' %v_test_size)\n",
        "\n",
        "print('\\t\\t Mean AUC pipeline: %f' %np.mean(aucs_pipeline))\n",
        "\n",
        "print('\\t\\t-----------------------')\n",
        "\n",
        "print('\\t Evaluating model ROC AUC pipeline ends\\n')\n"
      ],
      "execution_count": 51,
      "outputs": [
        {
          "output_type": "stream",
          "text": [
            "\t Creating pipeline model starts\n"
          ],
          "name": "stdout"
        },
        {
          "output_type": "stream",
          "text": [
            "/usr/local/lib/python3.6/dist-packages/sklearn/neural_network/multilayer_perceptron.py:564: ConvergenceWarning: Stochastic Optimizer: Maximum iterations (200) reached and the optimization hasn't converged yet.\n",
            "  % self.max_iter, ConvergenceWarning)\n"
          ],
          "name": "stderr"
        },
        {
          "output_type": "stream",
          "text": [
            "\n",
            " Creating pipeline model starts ends - Time(Seconds) - 1678\n",
            "\t Predicting classes pipeline starts\n",
            "\n",
            " Predicting classes pipeline starts - Time(Seconds) - 18\n",
            "\t Evaluating model ROC AUC pipeline\n",
            "\n",
            "\t\t-----------------------\n",
            "\t\t splits: 10.000000\n",
            "\t\t train_size: 0.800000\n",
            "\t\t test_size: 0.200000\n",
            "\t\t Mean AUC pipeline: 0.958547\n",
            "\t\t-----------------------\n",
            "\t Evaluating model ROC AUC pipeline ends\n",
            "\n"
          ],
          "name": "stdout"
        }
      ]
    },
    {
      "metadata": {
        "id": "91xAnLr3_4i7",
        "colab_type": "code",
        "colab": {
          "base_uri": "https://localhost:8080/",
          "height": 238
        },
        "outputId": "f943b3ff-fb0d-4a68-b99e-1b4c766668b7"
      },
      "cell_type": "code",
      "source": [
        "X_test = get_vectors(doc2vec_model1, doc2vec_model2, train_data_eval_df[TEXT_COLUMN])\n",
        "\n",
        "\n",
        "print('\\t Predicting classes pipeline starts')\n",
        "pred_start_time = time.time()\n",
        "predicted_pipe = pipm.predict_proba(X_test)\n",
        "\n",
        "predicted_pipeDf = pd.DataFrame(predicted_pipe)\n",
        "predicted_pipeDf.columns = CLASSES\n",
        "\n",
        "print('\\n Predicting classes pipeline starts - Time(Seconds) - %s'% int(time.time() - pred_start_time))\n",
        "\n",
        "\n",
        "print('\\t Evaluating model ROC AUC pipeline\\n')\n",
        "\n",
        "# mean auc\n",
        "aucs_pipeline = list(map(lambda klass: metrics.roc_auc_score(train_data_eval_df[klass], predicted_pipeDf[klass]), CLASSES))\n",
        "\n",
        "print('\\t\\t-----------------------')\n",
        "print('\\t\\t splits: %f' %v_n_splits)\n",
        "print('\\t\\t train_size: %f' %v_train_size)\n",
        "print('\\t\\t test_size: %f' %v_test_size)\n",
        "\n",
        "print('\\t\\t Mean AUC pipeline: %f' %np.mean(aucs_pipeline))\n",
        "\n",
        "print('\\t\\t-----------------------')\n",
        "\n",
        "print('\\t Evaluating model ROC AUC pipeline ends\\n')\n",
        "\n"
      ],
      "execution_count": 52,
      "outputs": [
        {
          "output_type": "stream",
          "text": [
            "\t Predicting classes pipeline starts\n",
            "\n",
            " Predicting classes pipeline starts - Time(Seconds) - 17\n",
            "\t Evaluating model ROC AUC pipeline\n",
            "\n",
            "\t\t-----------------------\n",
            "\t\t splits: 10.000000\n",
            "\t\t train_size: 0.800000\n",
            "\t\t test_size: 0.200000\n",
            "\t\t Mean AUC pipeline: 0.958547\n",
            "\t\t-----------------------\n",
            "\t Evaluating model ROC AUC pipeline ends\n",
            "\n"
          ],
          "name": "stdout"
        }
      ]
    },
    {
      "metadata": {
        "id": "XYl9M-sJfa28",
        "colab_type": "text"
      },
      "cell_type": "markdown",
      "source": [
        "##**Prediction and submission**"
      ]
    },
    {
      "metadata": {
        "id": "oDP2x-ckzxBe",
        "colab_type": "code",
        "colab": {
          "base_uri": "https://localhost:8080/",
          "height": 34
        },
        "outputId": "ab1c670b-c774-48ac-ae42-5425a204a1bc"
      },
      "cell_type": "code",
      "source": [
        "#Remove existing submission files\n",
        "!rm -f submission.*\n",
        "!ls -ltr submission.*"
      ],
      "execution_count": 53,
      "outputs": [
        {
          "output_type": "stream",
          "text": [
            "ls: cannot access 'submission.*': No such file or directory\r\n"
          ],
          "name": "stdout"
        }
      ]
    },
    {
      "metadata": {
        "id": "vnBhOrGtfxIY",
        "colab_type": "code",
        "colab": {
          "base_uri": "https://localhost:8080/",
          "height": 136
        },
        "outputId": "f73eedd6-0869-4f5a-b5c8-f456c2cf4967"
      },
      "cell_type": "code",
      "source": [
        "'''\n",
        "Test Data\n",
        "'''\n",
        "test_data = 'test.csv'\n",
        "test_df = pd.read_csv(test_data)\n",
        "test_df.info()\n"
      ],
      "execution_count": 54,
      "outputs": [
        {
          "output_type": "stream",
          "text": [
            "<class 'pandas.core.frame.DataFrame'>\n",
            "RangeIndex: 153164 entries, 0 to 153163\n",
            "Data columns (total 2 columns):\n",
            "id              153164 non-null object\n",
            "comment_text    153164 non-null object\n",
            "dtypes: object(2)\n",
            "memory usage: 2.3+ MB\n"
          ],
          "name": "stdout"
        }
      ]
    },
    {
      "metadata": {
        "id": "dQdBYiD9mqLp",
        "colab_type": "code",
        "colab": {
          "base_uri": "https://localhost:8080/",
          "height": 85
        },
        "outputId": "acca67d3-d9af-4f25-aafa-37fadf54d789"
      },
      "cell_type": "code",
      "source": [
        "'''\n",
        "With Pipeline\n",
        "'''\n",
        "print('\\n Pipeline Prediction starts')\n",
        "predict_start_time = time.time()\n",
        "\n",
        "predX_sub = get_vectors(doc2vec_model1, doc2vec_model2, test_df[TEXT_COLUMN])\n",
        "predy_sub = pipm.predict_proba(predX_sub)\n",
        "predy_subdf = pd.DataFrame(data=predy_sub)\n",
        "\n",
        "\n",
        "predy_subdf.columns = CLASSES\n",
        "pipesubmission_file = 'submission_pipe.csv'\n",
        "submit_df = pd.concat([test_df['id'], predy_subdf], axis=1)\n",
        "submit_df.head()\n",
        "submit_df.to_csv(pipesubmission_file, index=False)\n",
        "\n",
        "\n",
        "print('\\n Pipeline Prediction ends - Time(Seconds) - %s'% int(time.time() - predict_start_time))\n"
      ],
      "execution_count": 55,
      "outputs": [
        {
          "output_type": "stream",
          "text": [
            "\n",
            " Pipeline Prediction starts\n",
            "\n",
            " Pipeline Prediction ends - Time(Seconds) - 116\n"
          ],
          "name": "stdout"
        }
      ]
    },
    {
      "metadata": {
        "id": "hYe1V-yAdcjl",
        "colab_type": "code",
        "colab": {
          "base_uri": "https://localhost:8080/",
          "height": 51
        },
        "outputId": "ec8a95dc-e6c3-4d61-9978-86c3302adc39"
      },
      "cell_type": "code",
      "source": [
        "#Count of records in submission file Should be 153165\n",
        "!wc -l submission*.csv\n",
        "#Zip the file\n",
        "#!zip submission.zip submission.csv\n",
        "!zip submission_pipe.zip submission_pipe.csv"
      ],
      "execution_count": 56,
      "outputs": [
        {
          "output_type": "stream",
          "text": [
            "153165 submission_pipe.csv\n",
            "updating: submission_pipe.csv (deflated 70%)\n"
          ],
          "name": "stdout"
        }
      ]
    },
    {
      "metadata": {
        "id": "xG01mPv1dXM6",
        "colab_type": "code",
        "colab": {}
      },
      "cell_type": "code",
      "source": [
        "#Download submission file\n",
        "from google.colab import files\n",
        "#files.download('submission.zip')\n",
        "files.download('submission_pipe.zip')\n"
      ],
      "execution_count": 0,
      "outputs": []
    }
  ]
}